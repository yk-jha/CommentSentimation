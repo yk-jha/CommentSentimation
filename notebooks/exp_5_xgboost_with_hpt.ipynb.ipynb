{
 "cells": [
  {
   "cell_type": "code",
   "execution_count": 1,
   "id": "5d8aacd2-0890-41cc-8a93-926b9e829f26",
   "metadata": {},
   "outputs": [
    {
     "name": "stdout",
     "output_type": "stream",
     "text": [
      "Requirement already satisfied: mlflow in /opt/anaconda3/lib/python3.12/site-packages (3.1.0)\n",
      "Requirement already satisfied: boto3 in /opt/anaconda3/lib/python3.12/site-packages (1.38.40)\n",
      "Requirement already satisfied: awscli in /opt/anaconda3/lib/python3.12/site-packages (1.40.39)\n",
      "Collecting optuna\n",
      "  Downloading optuna-4.4.0-py3-none-any.whl.metadata (17 kB)\n",
      "Collecting xgboost\n",
      "  Downloading xgboost-3.0.2-py3-none-macosx_12_0_arm64.whl.metadata (2.1 kB)\n",
      "Requirement already satisfied: imbalanced-learn in /opt/anaconda3/lib/python3.12/site-packages (0.12.3)\n",
      "Requirement already satisfied: mlflow-skinny==3.1.0 in /opt/anaconda3/lib/python3.12/site-packages (from mlflow) (3.1.0)\n",
      "Requirement already satisfied: Flask<4 in /opt/anaconda3/lib/python3.12/site-packages (from mlflow) (3.0.3)\n",
      "Requirement already satisfied: alembic!=1.10.0,<2 in /opt/anaconda3/lib/python3.12/site-packages (from mlflow) (1.13.3)\n",
      "Requirement already satisfied: docker<8,>=4.0.0 in /opt/anaconda3/lib/python3.12/site-packages (from mlflow) (7.1.0)\n",
      "Requirement already satisfied: graphene<4 in /opt/anaconda3/lib/python3.12/site-packages (from mlflow) (3.4.3)\n",
      "Requirement already satisfied: gunicorn<24 in /opt/anaconda3/lib/python3.12/site-packages (from mlflow) (23.0.0)\n",
      "Requirement already satisfied: matplotlib<4 in /opt/anaconda3/lib/python3.12/site-packages (from mlflow) (3.9.2)\n",
      "Requirement already satisfied: numpy<3 in /opt/anaconda3/lib/python3.12/site-packages (from mlflow) (1.26.4)\n",
      "Requirement already satisfied: pandas<3 in /opt/anaconda3/lib/python3.12/site-packages (from mlflow) (2.2.2)\n",
      "Requirement already satisfied: pyarrow<21,>=4.0.0 in /opt/anaconda3/lib/python3.12/site-packages (from mlflow) (16.1.0)\n",
      "Requirement already satisfied: scikit-learn<2 in /opt/anaconda3/lib/python3.12/site-packages (from mlflow) (1.5.1)\n",
      "Requirement already satisfied: scipy<2 in /opt/anaconda3/lib/python3.12/site-packages (from mlflow) (1.13.1)\n",
      "Requirement already satisfied: sqlalchemy<3,>=1.4.0 in /opt/anaconda3/lib/python3.12/site-packages (from mlflow) (2.0.34)\n",
      "Requirement already satisfied: cachetools<7,>=5.0.0 in /opt/anaconda3/lib/python3.12/site-packages (from mlflow-skinny==3.1.0->mlflow) (5.3.3)\n",
      "Requirement already satisfied: click<9,>=7.0 in /opt/anaconda3/lib/python3.12/site-packages (from mlflow-skinny==3.1.0->mlflow) (8.1.7)\n",
      "Requirement already satisfied: cloudpickle<4 in /opt/anaconda3/lib/python3.12/site-packages (from mlflow-skinny==3.1.0->mlflow) (3.0.0)\n",
      "Requirement already satisfied: databricks-sdk<1,>=0.20.0 in /opt/anaconda3/lib/python3.12/site-packages (from mlflow-skinny==3.1.0->mlflow) (0.57.0)\n",
      "Requirement already satisfied: fastapi<1 in /opt/anaconda3/lib/python3.12/site-packages (from mlflow-skinny==3.1.0->mlflow) (0.115.13)\n",
      "Requirement already satisfied: gitpython<4,>=3.1.9 in /opt/anaconda3/lib/python3.12/site-packages (from mlflow-skinny==3.1.0->mlflow) (3.1.43)\n",
      "Requirement already satisfied: importlib_metadata!=4.7.0,<9,>=3.7.0 in /opt/anaconda3/lib/python3.12/site-packages (from mlflow-skinny==3.1.0->mlflow) (7.0.1)\n",
      "Requirement already satisfied: opentelemetry-api<3,>=1.9.0 in /opt/anaconda3/lib/python3.12/site-packages (from mlflow-skinny==3.1.0->mlflow) (1.34.1)\n",
      "Requirement already satisfied: opentelemetry-sdk<3,>=1.9.0 in /opt/anaconda3/lib/python3.12/site-packages (from mlflow-skinny==3.1.0->mlflow) (1.34.1)\n",
      "Requirement already satisfied: packaging<26 in /opt/anaconda3/lib/python3.12/site-packages (from mlflow-skinny==3.1.0->mlflow) (24.1)\n",
      "Requirement already satisfied: protobuf<7,>=3.12.0 in /opt/anaconda3/lib/python3.12/site-packages (from mlflow-skinny==3.1.0->mlflow) (4.25.3)\n",
      "Requirement already satisfied: pydantic<3,>=1.10.8 in /opt/anaconda3/lib/python3.12/site-packages (from mlflow-skinny==3.1.0->mlflow) (2.8.2)\n",
      "Requirement already satisfied: pyyaml<7,>=5.1 in /opt/anaconda3/lib/python3.12/site-packages (from mlflow-skinny==3.1.0->mlflow) (6.0.1)\n",
      "Requirement already satisfied: requests<3,>=2.17.3 in /opt/anaconda3/lib/python3.12/site-packages (from mlflow-skinny==3.1.0->mlflow) (2.32.3)\n",
      "Requirement already satisfied: sqlparse<1,>=0.4.0 in /opt/anaconda3/lib/python3.12/site-packages (from mlflow-skinny==3.1.0->mlflow) (0.5.3)\n",
      "Requirement already satisfied: typing-extensions<5,>=4.0.0 in /opt/anaconda3/lib/python3.12/site-packages (from mlflow-skinny==3.1.0->mlflow) (4.11.0)\n",
      "Requirement already satisfied: uvicorn<1 in /opt/anaconda3/lib/python3.12/site-packages (from mlflow-skinny==3.1.0->mlflow) (0.34.3)\n",
      "Requirement already satisfied: botocore<1.39.0,>=1.38.40 in /opt/anaconda3/lib/python3.12/site-packages (from boto3) (1.38.40)\n",
      "Requirement already satisfied: jmespath<2.0.0,>=0.7.1 in /opt/anaconda3/lib/python3.12/site-packages (from boto3) (1.0.1)\n",
      "Requirement already satisfied: s3transfer<0.14.0,>=0.13.0 in /opt/anaconda3/lib/python3.12/site-packages (from boto3) (0.13.0)\n",
      "Requirement already satisfied: docutils<=0.19,>=0.18.1 in /opt/anaconda3/lib/python3.12/site-packages (from awscli) (0.18.1)\n",
      "Requirement already satisfied: colorama<0.4.7,>=0.2.5 in /opt/anaconda3/lib/python3.12/site-packages (from awscli) (0.4.6)\n",
      "Requirement already satisfied: rsa<4.8,>=3.1.2 in /opt/anaconda3/lib/python3.12/site-packages (from awscli) (4.7.2)\n",
      "Requirement already satisfied: python-dateutil<3.0.0,>=2.1 in /opt/anaconda3/lib/python3.12/site-packages (from botocore<1.39.0,>=1.38.40->boto3) (2.9.0.post0)\n",
      "Requirement already satisfied: urllib3!=2.2.0,<3,>=1.25.4 in /opt/anaconda3/lib/python3.12/site-packages (from botocore<1.39.0,>=1.38.40->boto3) (2.2.3)\n",
      "Collecting colorlog (from optuna)\n",
      "  Downloading colorlog-6.9.0-py3-none-any.whl.metadata (10 kB)\n",
      "Requirement already satisfied: tqdm in /opt/anaconda3/lib/python3.12/site-packages (from optuna) (4.66.5)\n",
      "Requirement already satisfied: joblib>=1.1.1 in /opt/anaconda3/lib/python3.12/site-packages (from imbalanced-learn) (1.4.2)\n",
      "Requirement already satisfied: threadpoolctl>=2.0.0 in /opt/anaconda3/lib/python3.12/site-packages (from imbalanced-learn) (3.5.0)\n",
      "Requirement already satisfied: Mako in /opt/anaconda3/lib/python3.12/site-packages (from alembic!=1.10.0,<2->mlflow) (1.2.3)\n",
      "Requirement already satisfied: Werkzeug>=3.0.0 in /opt/anaconda3/lib/python3.12/site-packages (from Flask<4->mlflow) (3.0.3)\n",
      "Requirement already satisfied: Jinja2>=3.1.2 in /opt/anaconda3/lib/python3.12/site-packages (from Flask<4->mlflow) (3.1.4)\n",
      "Requirement already satisfied: itsdangerous>=2.1.2 in /opt/anaconda3/lib/python3.12/site-packages (from Flask<4->mlflow) (2.2.0)\n",
      "Requirement already satisfied: blinker>=1.6.2 in /opt/anaconda3/lib/python3.12/site-packages (from Flask<4->mlflow) (1.6.2)\n",
      "Requirement already satisfied: graphql-core<3.3,>=3.1 in /opt/anaconda3/lib/python3.12/site-packages (from graphene<4->mlflow) (3.2.6)\n",
      "Requirement already satisfied: graphql-relay<3.3,>=3.1 in /opt/anaconda3/lib/python3.12/site-packages (from graphene<4->mlflow) (3.2.0)\n",
      "Requirement already satisfied: contourpy>=1.0.1 in /opt/anaconda3/lib/python3.12/site-packages (from matplotlib<4->mlflow) (1.2.0)\n",
      "Requirement already satisfied: cycler>=0.10 in /opt/anaconda3/lib/python3.12/site-packages (from matplotlib<4->mlflow) (0.11.0)\n",
      "Requirement already satisfied: fonttools>=4.22.0 in /opt/anaconda3/lib/python3.12/site-packages (from matplotlib<4->mlflow) (4.51.0)\n",
      "Requirement already satisfied: kiwisolver>=1.3.1 in /opt/anaconda3/lib/python3.12/site-packages (from matplotlib<4->mlflow) (1.4.4)\n",
      "Requirement already satisfied: pillow>=8 in /opt/anaconda3/lib/python3.12/site-packages (from matplotlib<4->mlflow) (10.4.0)\n",
      "Requirement already satisfied: pyparsing>=2.3.1 in /opt/anaconda3/lib/python3.12/site-packages (from matplotlib<4->mlflow) (3.1.2)\n",
      "Requirement already satisfied: pytz>=2020.1 in /opt/anaconda3/lib/python3.12/site-packages (from pandas<3->mlflow) (2024.1)\n",
      "Requirement already satisfied: tzdata>=2022.7 in /opt/anaconda3/lib/python3.12/site-packages (from pandas<3->mlflow) (2023.3)\n",
      "Requirement already satisfied: pyasn1>=0.1.3 in /opt/anaconda3/lib/python3.12/site-packages (from rsa<4.8,>=3.1.2->awscli) (0.4.8)\n",
      "Requirement already satisfied: google-auth~=2.0 in /opt/anaconda3/lib/python3.12/site-packages (from databricks-sdk<1,>=0.20.0->mlflow-skinny==3.1.0->mlflow) (2.40.3)\n",
      "Requirement already satisfied: starlette<0.47.0,>=0.40.0 in /opt/anaconda3/lib/python3.12/site-packages (from fastapi<1->mlflow-skinny==3.1.0->mlflow) (0.46.2)\n",
      "Requirement already satisfied: gitdb<5,>=4.0.1 in /opt/anaconda3/lib/python3.12/site-packages (from gitpython<4,>=3.1.9->mlflow-skinny==3.1.0->mlflow) (4.0.7)\n",
      "Requirement already satisfied: zipp>=0.5 in /opt/anaconda3/lib/python3.12/site-packages (from importlib_metadata!=4.7.0,<9,>=3.7.0->mlflow-skinny==3.1.0->mlflow) (3.17.0)\n",
      "Requirement already satisfied: MarkupSafe>=2.0 in /opt/anaconda3/lib/python3.12/site-packages (from Jinja2>=3.1.2->Flask<4->mlflow) (2.1.3)\n",
      "Requirement already satisfied: opentelemetry-semantic-conventions==0.55b1 in /opt/anaconda3/lib/python3.12/site-packages (from opentelemetry-sdk<3,>=1.9.0->mlflow-skinny==3.1.0->mlflow) (0.55b1)\n",
      "Requirement already satisfied: annotated-types>=0.4.0 in /opt/anaconda3/lib/python3.12/site-packages (from pydantic<3,>=1.10.8->mlflow-skinny==3.1.0->mlflow) (0.6.0)\n",
      "Requirement already satisfied: pydantic-core==2.20.1 in /opt/anaconda3/lib/python3.12/site-packages (from pydantic<3,>=1.10.8->mlflow-skinny==3.1.0->mlflow) (2.20.1)\n",
      "Requirement already satisfied: six>=1.5 in /opt/anaconda3/lib/python3.12/site-packages (from python-dateutil<3.0.0,>=2.1->botocore<1.39.0,>=1.38.40->boto3) (1.16.0)\n",
      "Requirement already satisfied: charset-normalizer<4,>=2 in /opt/anaconda3/lib/python3.12/site-packages (from requests<3,>=2.17.3->mlflow-skinny==3.1.0->mlflow) (3.3.2)\n",
      "Requirement already satisfied: idna<4,>=2.5 in /opt/anaconda3/lib/python3.12/site-packages (from requests<3,>=2.17.3->mlflow-skinny==3.1.0->mlflow) (3.7)\n",
      "Requirement already satisfied: certifi>=2017.4.17 in /opt/anaconda3/lib/python3.12/site-packages (from requests<3,>=2.17.3->mlflow-skinny==3.1.0->mlflow) (2025.1.31)\n",
      "Requirement already satisfied: h11>=0.8 in /opt/anaconda3/lib/python3.12/site-packages (from uvicorn<1->mlflow-skinny==3.1.0->mlflow) (0.14.0)\n",
      "Requirement already satisfied: smmap<5,>=3.0.1 in /opt/anaconda3/lib/python3.12/site-packages (from gitdb<5,>=4.0.1->gitpython<4,>=3.1.9->mlflow-skinny==3.1.0->mlflow) (4.0.0)\n",
      "Requirement already satisfied: pyasn1-modules>=0.2.1 in /opt/anaconda3/lib/python3.12/site-packages (from google-auth~=2.0->databricks-sdk<1,>=0.20.0->mlflow-skinny==3.1.0->mlflow) (0.2.8)\n",
      "Requirement already satisfied: anyio<5,>=3.6.2 in /opt/anaconda3/lib/python3.12/site-packages (from starlette<0.47.0,>=0.40.0->fastapi<1->mlflow-skinny==3.1.0->mlflow) (4.2.0)\n",
      "Requirement already satisfied: sniffio>=1.1 in /opt/anaconda3/lib/python3.12/site-packages (from anyio<5,>=3.6.2->starlette<0.47.0,>=0.40.0->fastapi<1->mlflow-skinny==3.1.0->mlflow) (1.3.0)\n",
      "Downloading optuna-4.4.0-py3-none-any.whl (395 kB)\n",
      "Downloading xgboost-3.0.2-py3-none-macosx_12_0_arm64.whl (2.0 MB)\n",
      "\u001b[2K   \u001b[90m━━━━━━━━━━━━━━━━━━━━━━━━━━━━━━━━━━━━━━━━\u001b[0m \u001b[32m2.0/2.0 MB\u001b[0m \u001b[31m3.7 MB/s\u001b[0m eta \u001b[36m0:00:00\u001b[0ma \u001b[36m0:00:01\u001b[0m\n",
      "\u001b[?25hDownloading colorlog-6.9.0-py3-none-any.whl (11 kB)\n",
      "Installing collected packages: colorlog, xgboost, optuna\n",
      "Successfully installed colorlog-6.9.0 optuna-4.4.0 xgboost-3.0.2\n",
      "Note: you may need to restart the kernel to use updated packages.\n"
     ]
    }
   ],
   "source": [
    "pip install mlflow boto3 awscli optuna xgboost imbalanced-learn"
   ]
  },
  {
   "cell_type": "code",
   "execution_count": 4,
   "id": "732efc59-f97c-4f65-8757-92135d651ffa",
   "metadata": {},
   "outputs": [],
   "source": [
    "import mlflow\n",
    "# Step 2: Set up the MLflow tracking server\n",
    "mlflow.set_tracking_uri(\"http://ec2-54-152-112-160.compute-1.amazonaws.com:5000/\")"
   ]
  },
  {
   "cell_type": "code",
   "execution_count": 6,
   "id": "a6d1a0e8-17fa-4230-8bac-0f049185c5d3",
   "metadata": {},
   "outputs": [
    {
     "name": "stderr",
     "output_type": "stream",
     "text": [
      "2025/06/25 14:11:48 INFO mlflow.tracking.fluent: Experiment with name 'Exp 5 - ML Algos with HP Tuning' does not exist. Creating a new experiment.\n"
     ]
    },
    {
     "data": {
      "text/plain": [
       "<Experiment: artifact_location='s3://yashmlflow-bucket-2/428052530971517084', creation_time=1750840908418, experiment_id='428052530971517084', last_update_time=1750840908418, lifecycle_stage='active', name='Exp 5 - ML Algos with HP Tuning', tags={}>"
      ]
     },
     "execution_count": 6,
     "metadata": {},
     "output_type": "execute_result"
    }
   ],
   "source": [
    "mlflow.set_experiment(\"Exp 5 - ML Algos with HP Tuning\")"
   ]
  },
  {
   "cell_type": "code",
   "execution_count": 10,
   "id": "99b71a1d-df6e-4ed7-a42f-b0084a72dcc6",
   "metadata": {},
   "outputs": [
    {
     "name": "stdout",
     "output_type": "stream",
     "text": [
      "Collecting lightgbm\n",
      "  Downloading lightgbm-4.6.0-py3-none-macosx_12_0_arm64.whl.metadata (17 kB)\n",
      "Requirement already satisfied: numpy>=1.17.0 in /opt/anaconda3/lib/python3.12/site-packages (from lightgbm) (1.26.4)\n",
      "Requirement already satisfied: scipy in /opt/anaconda3/lib/python3.12/site-packages (from lightgbm) (1.13.1)\n",
      "Downloading lightgbm-4.6.0-py3-none-macosx_12_0_arm64.whl (1.6 MB)\n",
      "\u001b[2K   \u001b[90m━━━━━━━━━━━━━━━━━━━━━━━━━━━━━━━━━━━━━━━━\u001b[0m \u001b[32m1.6/1.6 MB\u001b[0m \u001b[31m3.6 MB/s\u001b[0m eta \u001b[36m0:00:00\u001b[0m00:01\u001b[0m00:01\u001b[0m\n",
      "\u001b[?25hInstalling collected packages: lightgbm\n",
      "Successfully installed lightgbm-4.6.0\n",
      "Note: you may need to restart the kernel to use updated packages.\n"
     ]
    }
   ],
   "source": [
    "pip install lightgbm"
   ]
  },
  {
   "cell_type": "code",
   "execution_count": 12,
   "id": "5ec8f2df-5e15-429e-9dcc-82ad52869a95",
   "metadata": {},
   "outputs": [],
   "source": [
    "import optuna\n",
    "import mlflow\n",
    "import mlflow.sklearn\n",
    "from sklearn.model_selection import train_test_split\n",
    "from sklearn.metrics import accuracy_score, classification_report\n",
    "from sklearn.feature_extraction.text import TfidfVectorizer\n",
    "from sklearn.linear_model import LogisticRegression\n",
    "from sklearn.svm import SVC\n",
    "from xgboost import XGBClassifier\n",
    "from lightgbm import LGBMClassifier\n",
    "from sklearn.neighbors import KNeighborsClassifier\n",
    "from sklearn.naive_bayes import MultinomialNB\n",
    "from sklearn.ensemble import RandomForestClassifier\n",
    "from imblearn.over_sampling import SMOTE\n",
    "import matplotlib.pyplot as plt\n",
    "import seaborn as sns\n",
    "import pandas as pd"
   ]
  },
  {
   "cell_type": "code",
   "execution_count": 14,
   "id": "199ee96c-c14b-410d-99c3-fda184c23baf",
   "metadata": {},
   "outputs": [
    {
     "data": {
      "text/plain": [
       "(36662, 2)"
      ]
     },
     "execution_count": 14,
     "metadata": {},
     "output_type": "execute_result"
    }
   ],
   "source": [
    "df = pd.read_csv('reddit_preprocessing.csv').dropna()\n",
    "df.shape"
   ]
  },
  {
   "cell_type": "code",
   "execution_count": 16,
   "id": "859563ce-6fb8-453a-8d55-ec996f9e732a",
   "metadata": {},
   "outputs": [
    {
     "name": "stderr",
     "output_type": "stream",
     "text": [
      "[I 2025-06-25 14:17:35,381] A new study created in memory with name: no-name-de739785-1940-4c24-a840-97796f8d9447\n",
      "[I 2025-06-25 14:17:44,931] Trial 0 finished with value: 0.6808945861175508 and parameters: {'n_estimators': 95, 'learning_rate': 0.06643416474045732, 'max_depth': 4}. Best is trial 0 with value: 0.6808945861175508.\n",
      "[I 2025-06-25 14:19:08,041] Trial 1 finished with value: 0.6343924723851084 and parameters: {'n_estimators': 108, 'learning_rate': 0.0022515094196788655, 'max_depth': 10}. Best is trial 0 with value: 0.6808945861175508.\n",
      "[I 2025-06-25 14:19:15,808] Trial 2 finished with value: 0.565525705713896 and parameters: {'n_estimators': 126, 'learning_rate': 0.007414858846165917, 'max_depth': 3}. Best is trial 0 with value: 0.6808945861175508.\n",
      "[I 2025-06-25 14:22:02,555] Trial 3 finished with value: 0.6345288422201009 and parameters: {'n_estimators': 271, 'learning_rate': 0.0006470409824881501, 'max_depth': 10}. Best is trial 0 with value: 0.6808945861175508.\n",
      "[I 2025-06-25 14:22:42,877] Trial 4 finished with value: 0.7093958816309832 and parameters: {'n_estimators': 290, 'learning_rate': 0.025672359858900283, 'max_depth': 5}. Best is trial 4 with value: 0.7093958816309832.\n",
      "[I 2025-06-25 14:23:49,640] Trial 5 finished with value: 0.6016637119869085 and parameters: {'n_estimators': 178, 'learning_rate': 0.0016208739659928741, 'max_depth': 8}. Best is trial 4 with value: 0.7093958816309832.\n",
      "[I 2025-06-25 14:24:29,542] Trial 6 finished with value: 0.632074185190236 and parameters: {'n_estimators': 251, 'learning_rate': 0.006472216386566674, 'max_depth': 5}. Best is trial 4 with value: 0.7093958816309832.\n",
      "[I 2025-06-25 14:24:36,074] Trial 7 finished with value: 0.6803491067775808 and parameters: {'n_estimators': 115, 'learning_rate': 0.07037997288652369, 'max_depth': 3}. Best is trial 4 with value: 0.7093958816309832.\n",
      "[I 2025-06-25 14:25:09,020] Trial 8 finished with value: 0.6600300013636984 and parameters: {'n_estimators': 107, 'learning_rate': 0.019229901313772352, 'max_depth': 7}. Best is trial 4 with value: 0.7093958816309832.\n",
      "[I 2025-06-25 14:26:16,799] Trial 9 finished with value: 0.5591163234692486 and parameters: {'n_estimators': 285, 'learning_rate': 0.00033824495562481346, 'max_depth': 6}. Best is trial 4 with value: 0.7093958816309832.\n",
      "[I 2025-06-25 14:27:39,295] Trial 10 finished with value: 0.7070775944361107 and parameters: {'n_estimators': 222, 'learning_rate': 0.01915787590754541, 'max_depth': 8}. Best is trial 4 with value: 0.7093958816309832.\n",
      "[I 2025-06-25 14:29:00,549] Trial 11 finished with value: 0.7100777308059457 and parameters: {'n_estimators': 217, 'learning_rate': 0.020304120250542422, 'max_depth': 8}. Best is trial 11 with value: 0.7100777308059457.\n",
      "[I 2025-06-25 14:29:49,330] Trial 12 finished with value: 0.6793945179326333 and parameters: {'n_estimators': 205, 'learning_rate': 0.01853120548960088, 'max_depth': 6}. Best is trial 11 with value: 0.7100777308059457.\n",
      "[I 2025-06-25 14:30:16,353] Trial 13 finished with value: 0.6616664393836084 and parameters: {'n_estimators': 55, 'learning_rate': 0.03208867405344798, 'max_depth': 8}. Best is trial 11 with value: 0.7100777308059457.\n",
      "[I 2025-06-25 14:31:10,761] Trial 14 finished with value: 0.6480294558843583 and parameters: {'n_estimators': 297, 'learning_rate': 0.007877363286111431, 'max_depth': 5}. Best is trial 11 with value: 0.7100777308059457.\n",
      "[I 2025-06-25 14:33:30,479] Trial 15 finished with value: 0.6033001500068185 and parameters: {'n_estimators': 238, 'learning_rate': 0.00013581365886426624, 'max_depth': 9}. Best is trial 11 with value: 0.7100777308059457.\n",
      "[I 2025-06-25 14:34:13,300] Trial 16 finished with value: 0.7782626483021956 and parameters: {'n_estimators': 182, 'learning_rate': 0.09258468577736903, 'max_depth': 7}. Best is trial 16 with value: 0.7782626483021956.\n",
      "[I 2025-06-25 14:34:51,586] Trial 17 finished with value: 0.7719896358925405 and parameters: {'n_estimators': 161, 'learning_rate': 0.09603413626407069, 'max_depth': 7}. Best is trial 16 with value: 0.7782626483021956.\n",
      "[I 2025-06-25 14:35:30,182] Trial 18 finished with value: 0.7684440201827356 and parameters: {'n_estimators': 156, 'learning_rate': 0.09320154233462337, 'max_depth': 7}. Best is trial 16 with value: 0.7782626483021956.\n",
      "[I 2025-06-25 14:36:17,775] Trial 19 finished with value: 0.7235783444702032 and parameters: {'n_estimators': 164, 'learning_rate': 0.04027416693716389, 'max_depth': 7}. Best is trial 16 with value: 0.7782626483021956.\n",
      "[I 2025-06-25 14:37:32,407] Trial 20 finished with value: 0.6308468566753034 and parameters: {'n_estimators': 141, 'learning_rate': 0.003758119075792241, 'max_depth': 9}. Best is trial 16 with value: 0.7782626483021956.\n",
      "[I 2025-06-25 14:38:16,466] Trial 21 finished with value: 0.7539888176735307 and parameters: {'n_estimators': 177, 'learning_rate': 0.06181205085739926, 'max_depth': 7}. Best is trial 16 with value: 0.7782626483021956.\n",
      "[I 2025-06-25 14:38:43,829] Trial 22 finished with value: 0.7497613527887631 and parameters: {'n_estimators': 144, 'learning_rate': 0.08694987185289463, 'max_depth': 6}. Best is trial 16 with value: 0.7782626483021956.\n",
      "[I 2025-06-25 14:39:28,542] Trial 23 finished with value: 0.7839901813718806 and parameters: {'n_estimators': 197, 'learning_rate': 0.09805492629393854, 'max_depth': 7}. Best is trial 23 with value: 0.7839901813718806.\n",
      "[I 2025-06-25 14:40:49,816] Trial 24 finished with value: 0.7448520387290332 and parameters: {'n_estimators': 181, 'learning_rate': 0.041616017938484524, 'max_depth': 9}. Best is trial 23 with value: 0.7839901813718806.\n",
      "[I 2025-06-25 14:41:36,899] Trial 25 finished with value: 0.7346243011045956 and parameters: {'n_estimators': 198, 'learning_rate': 0.046962603041439704, 'max_depth': 6}. Best is trial 23 with value: 0.7839901813718806.\n",
      "[I 2025-06-25 14:42:51,605] Trial 26 finished with value: 0.6660302741033683 and parameters: {'n_estimators': 194, 'learning_rate': 0.011782412723945684, 'max_depth': 7}. Best is trial 23 with value: 0.7839901813718806.\n",
      "[I 2025-06-25 14:43:21,541] Trial 27 finished with value: 0.7343515614346107 and parameters: {'n_estimators': 81, 'learning_rate': 0.08511151663031452, 'max_depth': 8}. Best is trial 23 with value: 0.7839901813718806.\n",
      "[I 2025-06-25 14:44:06,947] Trial 28 finished with value: 0.6562116459839084 and parameters: {'n_estimators': 227, 'learning_rate': 0.012220590495446052, 'max_depth': 5}. Best is trial 23 with value: 0.7839901813718806.\n",
      "[I 2025-06-25 14:44:23,141] Trial 29 finished with value: 0.6953497886267558 and parameters: {'n_estimators': 143, 'learning_rate': 0.05317036111150672, 'max_depth': 4}. Best is trial 23 with value: 0.7839901813718806.\n",
      "\u001b[31m2025/06/25 14:46:15 WARNING mlflow.models.model: Model logged without a signature and input example. Please set `input_example` parameter when logging the model to auto infer the model signature.\u001b[0m\n"
     ]
    },
    {
     "name": "stdout",
     "output_type": "stream",
     "text": [
      "🏃 View run XGBoost_SMOTE_TFIDF_Trigrams at: http://ec2-54-152-112-160.compute-1.amazonaws.com:5000/#/experiments/428052530971517084/runs/45fff5c066bf48939933415e31cc7f90\n",
      "🧪 View experiment at: http://ec2-54-152-112-160.compute-1.amazonaws.com:5000/#/experiments/428052530971517084\n"
     ]
    }
   ],
   "source": [
    "# Step 1: Remap the class labels from [-1, 0, 1] to [2, 0, 1]\n",
    "df['category'] = df['category'].map({-1: 2, 0: 0, 1: 1})\n",
    "\n",
    "# Step 2: Remove rows where the target labels (category) are NaN\n",
    "df = df.dropna(subset=['category'])\n",
    "\n",
    "ngram_range = (1, 3)  # Trigram setting\n",
    "max_features = 10000  # Set max_features to 1000 for TF-IDF\n",
    "\n",
    "# Step 4: Train-test split before vectorization and resampling\n",
    "X_train, X_test, y_train, y_test = train_test_split(df['clean_comment'], df['category'], test_size=0.2, random_state=42, stratify=df['category'])\n",
    "\n",
    "# Step 2: Vectorization using TF-IDF, fit on training data only\n",
    "vectorizer = TfidfVectorizer(ngram_range=ngram_range, max_features=max_features)\n",
    "X_train_vec = vectorizer.fit_transform(X_train)  # Fit on training data\n",
    "X_test_vec = vectorizer.transform(X_test)  # Transform test data\n",
    "\n",
    "smote = SMOTE(random_state=42)\n",
    "X_train_vec, y_train = smote.fit_resample(X_train_vec, y_train)\n",
    "\n",
    "# Function to log results in MLflow\n",
    "def log_mlflow(model_name, model, X_train, X_test, y_train, y_test):\n",
    "    with mlflow.start_run():\n",
    "        # Log model type\n",
    "        mlflow.set_tag(\"mlflow.runName\", f\"{model_name}_SMOTE_TFIDF_Trigrams\")\n",
    "        mlflow.set_tag(\"experiment_type\", \"algorithm_comparison\")\n",
    "\n",
    "        # Log algorithm name as a parameter\n",
    "        mlflow.log_param(\"algo_name\", model_name)\n",
    "\n",
    "        # Train model\n",
    "        model.fit(X_train, y_train)\n",
    "        y_pred = model.predict(X_test)\n",
    "\n",
    "        # Log accuracy\n",
    "        accuracy = accuracy_score(y_test, y_pred)\n",
    "        mlflow.log_metric(\"accuracy\", accuracy)\n",
    "\n",
    "        # Log classification report\n",
    "        classification_rep = classification_report(y_test, y_pred, output_dict=True)\n",
    "        for label, metrics in classification_rep.items():\n",
    "            if isinstance(metrics, dict):\n",
    "                for metric, value in metrics.items():\n",
    "                    mlflow.log_metric(f\"{label}_{metric}\", value)\n",
    "\n",
    "        # Log the model\n",
    "        mlflow.sklearn.log_model(model, name = f\"{model_name}_model\")\n",
    "\n",
    "\n",
    "# Step 6: Optuna objective function for XGBoost\n",
    "def objective_xgboost(trial):\n",
    "    n_estimators = trial.suggest_int('n_estimators', 50, 300)\n",
    "    learning_rate = trial.suggest_float('learning_rate', 1e-4, 1e-1, log=True)\n",
    "    max_depth = trial.suggest_int('max_depth', 3, 10)\n",
    "\n",
    "    model = XGBClassifier(n_estimators=n_estimators, learning_rate=learning_rate, max_depth=max_depth, random_state=42)\n",
    "    return accuracy_score(y_test, model.fit(X_train_vec, y_train).predict(X_test_vec))\n",
    "\n",
    "\n",
    "# Step 7: Run Optuna for XGBoost, log the best model only\n",
    "def run_optuna_experiment():\n",
    "    study = optuna.create_study(direction=\"maximize\")\n",
    "    study.optimize(objective_xgboost, n_trials=30)\n",
    "\n",
    "    # Get the best parameters and log only the best model\n",
    "    best_params = study.best_params\n",
    "    best_model = XGBClassifier(n_estimators=best_params['n_estimators'], learning_rate=best_params['learning_rate'], max_depth=best_params['max_depth'], random_state=42)\n",
    "\n",
    "    # Log the best model with MLflow, passing the algo_name as \"xgboost\"\n",
    "    log_mlflow(\"XGBoost\", best_model, X_train_vec, X_test_vec, y_train, y_test)\n",
    "\n",
    "# Run the experiment for XGBoost\n",
    "run_optuna_experiment()\n"
   ]
  },
  {
   "cell_type": "code",
   "execution_count": null,
   "id": "cd9d1f06-9062-4178-abcd-04fa70cdbb14",
   "metadata": {},
   "outputs": [],
   "source": []
  }
 ],
 "metadata": {
  "kernelspec": {
   "display_name": "Python [conda env:base] *",
   "language": "python",
   "name": "conda-base-py"
  },
  "language_info": {
   "codemirror_mode": {
    "name": "ipython",
    "version": 3
   },
   "file_extension": ".py",
   "mimetype": "text/x-python",
   "name": "python",
   "nbconvert_exporter": "python",
   "pygments_lexer": "ipython3",
   "version": "3.12.7"
  }
 },
 "nbformat": 4,
 "nbformat_minor": 5
}
